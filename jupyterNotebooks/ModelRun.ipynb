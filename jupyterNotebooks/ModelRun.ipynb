{
 "cells": [
  {
   "cell_type": "code",
   "execution_count": 8,
   "metadata": {},
   "outputs": [
    {
     "name": "stdout",
     "output_type": "stream",
     "text": [
      "in one day\n"
     ]
    }
   ],
   "source": [
    "print(\"in one day\")\n"
   ]
  },
  {
   "cell_type": "code",
   "execution_count": 9,
   "metadata": {},
   "outputs": [
    {
     "name": "stdout",
     "output_type": "stream",
     "text": [
      "Requirement already satisfied: appnope==0.1.3 in /Users/ali/dev/tubs/PythonLab-FinalPrj/.venv/lib/python3.11/site-packages (from -r /Users/ali/dev/tubs/PythonLab-FinalPrj/requirements.txt (line 1)) (0.1.3)\n",
      "Requirement already satisfied: asttokens==2.4.1 in /Users/ali/dev/tubs/PythonLab-FinalPrj/.venv/lib/python3.11/site-packages (from -r /Users/ali/dev/tubs/PythonLab-FinalPrj/requirements.txt (line 2)) (2.4.1)\n",
      "Requirement already satisfied: comm==0.2.1 in /Users/ali/dev/tubs/PythonLab-FinalPrj/.venv/lib/python3.11/site-packages (from -r /Users/ali/dev/tubs/PythonLab-FinalPrj/requirements.txt (line 3)) (0.2.1)\n",
      "Requirement already satisfied: debugpy==1.8.0 in /Users/ali/dev/tubs/PythonLab-FinalPrj/.venv/lib/python3.11/site-packages (from -r /Users/ali/dev/tubs/PythonLab-FinalPrj/requirements.txt (line 4)) (1.8.0)\n",
      "Requirement already satisfied: decorator==5.1.1 in /Users/ali/dev/tubs/PythonLab-FinalPrj/.venv/lib/python3.11/site-packages (from -r /Users/ali/dev/tubs/PythonLab-FinalPrj/requirements.txt (line 5)) (5.1.1)\n",
      "Requirement already satisfied: executing==2.0.1 in /Users/ali/dev/tubs/PythonLab-FinalPrj/.venv/lib/python3.11/site-packages (from -r /Users/ali/dev/tubs/PythonLab-FinalPrj/requirements.txt (line 6)) (2.0.1)\n",
      "Requirement already satisfied: ipykernel==6.29.0 in /Users/ali/dev/tubs/PythonLab-FinalPrj/.venv/lib/python3.11/site-packages (from -r /Users/ali/dev/tubs/PythonLab-FinalPrj/requirements.txt (line 7)) (6.29.0)\n",
      "Requirement already satisfied: ipython==8.21.0 in /Users/ali/dev/tubs/PythonLab-FinalPrj/.venv/lib/python3.11/site-packages (from -r /Users/ali/dev/tubs/PythonLab-FinalPrj/requirements.txt (line 8)) (8.21.0)\n",
      "Requirement already satisfied: jedi==0.19.1 in /Users/ali/dev/tubs/PythonLab-FinalPrj/.venv/lib/python3.11/site-packages (from -r /Users/ali/dev/tubs/PythonLab-FinalPrj/requirements.txt (line 9)) (0.19.1)\n",
      "Requirement already satisfied: jupyter_client==8.6.0 in /Users/ali/dev/tubs/PythonLab-FinalPrj/.venv/lib/python3.11/site-packages (from -r /Users/ali/dev/tubs/PythonLab-FinalPrj/requirements.txt (line 10)) (8.6.0)\n",
      "Requirement already satisfied: jupyter_core==5.7.1 in /Users/ali/dev/tubs/PythonLab-FinalPrj/.venv/lib/python3.11/site-packages (from -r /Users/ali/dev/tubs/PythonLab-FinalPrj/requirements.txt (line 11)) (5.7.1)\n",
      "Requirement already satisfied: matplotlib-inline==0.1.6 in /Users/ali/dev/tubs/PythonLab-FinalPrj/.venv/lib/python3.11/site-packages (from -r /Users/ali/dev/tubs/PythonLab-FinalPrj/requirements.txt (line 12)) (0.1.6)\n",
      "Requirement already satisfied: nest-asyncio==1.6.0 in /Users/ali/dev/tubs/PythonLab-FinalPrj/.venv/lib/python3.11/site-packages (from -r /Users/ali/dev/tubs/PythonLab-FinalPrj/requirements.txt (line 13)) (1.6.0)\n",
      "Requirement already satisfied: numpy==1.26.3 in /Users/ali/dev/tubs/PythonLab-FinalPrj/.venv/lib/python3.11/site-packages (from -r /Users/ali/dev/tubs/PythonLab-FinalPrj/requirements.txt (line 14)) (1.26.3)\n",
      "Requirement already satisfied: packaging==23.2 in /Users/ali/dev/tubs/PythonLab-FinalPrj/.venv/lib/python3.11/site-packages (from -r /Users/ali/dev/tubs/PythonLab-FinalPrj/requirements.txt (line 15)) (23.2)\n",
      "Requirement already satisfied: pandas==2.2.0 in /Users/ali/dev/tubs/PythonLab-FinalPrj/.venv/lib/python3.11/site-packages (from -r /Users/ali/dev/tubs/PythonLab-FinalPrj/requirements.txt (line 16)) (2.2.0)\n",
      "Requirement already satisfied: parso==0.8.3 in /Users/ali/dev/tubs/PythonLab-FinalPrj/.venv/lib/python3.11/site-packages (from -r /Users/ali/dev/tubs/PythonLab-FinalPrj/requirements.txt (line 17)) (0.8.3)\n",
      "Requirement already satisfied: pexpect==4.9.0 in /Users/ali/dev/tubs/PythonLab-FinalPrj/.venv/lib/python3.11/site-packages (from -r /Users/ali/dev/tubs/PythonLab-FinalPrj/requirements.txt (line 18)) (4.9.0)\n",
      "Requirement already satisfied: platformdirs==4.2.0 in /Users/ali/dev/tubs/PythonLab-FinalPrj/.venv/lib/python3.11/site-packages (from -r /Users/ali/dev/tubs/PythonLab-FinalPrj/requirements.txt (line 19)) (4.2.0)\n",
      "Requirement already satisfied: prompt-toolkit==3.0.43 in /Users/ali/dev/tubs/PythonLab-FinalPrj/.venv/lib/python3.11/site-packages (from -r /Users/ali/dev/tubs/PythonLab-FinalPrj/requirements.txt (line 20)) (3.0.43)\n",
      "Requirement already satisfied: psutil==5.9.8 in /Users/ali/dev/tubs/PythonLab-FinalPrj/.venv/lib/python3.11/site-packages (from -r /Users/ali/dev/tubs/PythonLab-FinalPrj/requirements.txt (line 21)) (5.9.8)\n",
      "Requirement already satisfied: ptyprocess==0.7.0 in /Users/ali/dev/tubs/PythonLab-FinalPrj/.venv/lib/python3.11/site-packages (from -r /Users/ali/dev/tubs/PythonLab-FinalPrj/requirements.txt (line 22)) (0.7.0)\n",
      "Requirement already satisfied: pure-eval==0.2.2 in /Users/ali/dev/tubs/PythonLab-FinalPrj/.venv/lib/python3.11/site-packages (from -r /Users/ali/dev/tubs/PythonLab-FinalPrj/requirements.txt (line 23)) (0.2.2)\n",
      "Requirement already satisfied: Pygments==2.17.2 in /Users/ali/dev/tubs/PythonLab-FinalPrj/.venv/lib/python3.11/site-packages (from -r /Users/ali/dev/tubs/PythonLab-FinalPrj/requirements.txt (line 24)) (2.17.2)\n",
      "Requirement already satisfied: python-dateutil==2.8.2 in /Users/ali/dev/tubs/PythonLab-FinalPrj/.venv/lib/python3.11/site-packages (from -r /Users/ali/dev/tubs/PythonLab-FinalPrj/requirements.txt (line 25)) (2.8.2)\n",
      "Requirement already satisfied: pytz==2023.4 in /Users/ali/dev/tubs/PythonLab-FinalPrj/.venv/lib/python3.11/site-packages (from -r /Users/ali/dev/tubs/PythonLab-FinalPrj/requirements.txt (line 26)) (2023.4)\n",
      "Requirement already satisfied: pyzmq==25.1.2 in /Users/ali/dev/tubs/PythonLab-FinalPrj/.venv/lib/python3.11/site-packages (from -r /Users/ali/dev/tubs/PythonLab-FinalPrj/requirements.txt (line 27)) (25.1.2)\n",
      "Requirement already satisfied: six==1.16.0 in /Users/ali/dev/tubs/PythonLab-FinalPrj/.venv/lib/python3.11/site-packages (from -r /Users/ali/dev/tubs/PythonLab-FinalPrj/requirements.txt (line 28)) (1.16.0)\n",
      "Requirement already satisfied: stack-data==0.6.3 in /Users/ali/dev/tubs/PythonLab-FinalPrj/.venv/lib/python3.11/site-packages (from -r /Users/ali/dev/tubs/PythonLab-FinalPrj/requirements.txt (line 29)) (0.6.3)\n",
      "Requirement already satisfied: tornado==6.4 in /Users/ali/dev/tubs/PythonLab-FinalPrj/.venv/lib/python3.11/site-packages (from -r /Users/ali/dev/tubs/PythonLab-FinalPrj/requirements.txt (line 30)) (6.4)\n",
      "Requirement already satisfied: traitlets==5.14.1 in /Users/ali/dev/tubs/PythonLab-FinalPrj/.venv/lib/python3.11/site-packages (from -r /Users/ali/dev/tubs/PythonLab-FinalPrj/requirements.txt (line 31)) (5.14.1)\n",
      "Requirement already satisfied: tzdata==2023.4 in /Users/ali/dev/tubs/PythonLab-FinalPrj/.venv/lib/python3.11/site-packages (from -r /Users/ali/dev/tubs/PythonLab-FinalPrj/requirements.txt (line 32)) (2023.4)\n",
      "Requirement already satisfied: wcwidth==0.2.13 in /Users/ali/dev/tubs/PythonLab-FinalPrj/.venv/lib/python3.11/site-packages (from -r /Users/ali/dev/tubs/PythonLab-FinalPrj/requirements.txt (line 33)) (0.2.13)\n",
      "Collecting matplotlib==3.6.2 (from -r /Users/ali/dev/tubs/PythonLab-FinalPrj/requirements.txt (line 34))\n",
      "  Using cached matplotlib-3.6.2-cp311-cp311-macosx_11_0_arm64.whl (7.2 MB)\n",
      "\u001b[31mERROR: Cannot install numpy==1.23.5 and numpy==1.26.3 because these package versions have conflicting dependencies.\u001b[0m\u001b[31m\n",
      "\u001b[0m\n",
      "The conflict is caused by:\n",
      "    The user requested numpy==1.26.3\n",
      "    The user requested numpy==1.23.5\n",
      "\n",
      "To fix this you could try to:\n",
      "1. loosen the range of package versions you've specified\n",
      "2. remove package versions to allow pip attempt to solve the dependency conflict\n",
      "\n",
      "\u001b[31mERROR: ResolutionImpossible: for help visit https://pip.pypa.io/en/latest/topics/dependency-resolution/#dealing-with-dependency-conflicts\u001b[0m\u001b[31m\n",
      "\u001b[0m\n",
      "\u001b[1m[\u001b[0m\u001b[34;49mnotice\u001b[0m\u001b[1;39;49m]\u001b[0m\u001b[39;49m A new release of pip is available: \u001b[0m\u001b[31;49m23.3.1\u001b[0m\u001b[39;49m -> \u001b[0m\u001b[32;49m23.3.2\u001b[0m\n",
      "\u001b[1m[\u001b[0m\u001b[34;49mnotice\u001b[0m\u001b[1;39;49m]\u001b[0m\u001b[39;49m To update, run: \u001b[0m\u001b[32;49mpip install --upgrade pip\u001b[0m\n",
      "Note: you may need to restart the kernel to use updated packages.\n"
     ]
    }
   ],
   "source": [
    "pip install -r /Users/ali/dev/tubs/PythonLab-FinalPrj/requirements.txt"
   ]
  },
  {
   "cell_type": "code",
   "execution_count": 59,
   "metadata": {},
   "outputs": [
    {
     "data": {
      "text/plain": [
       "3"
      ]
     },
     "execution_count": 59,
     "metadata": {},
     "output_type": "execute_result"
    }
   ],
   "source": [
    "from PIL import Image\n",
    "# im = Image.open(\"/Users/ali/dev/tubs/PythonLab-FinalPrj/model/data/imgs/ID_0000_Z_0142.tif\")\n",
    "im = Image.open(\"/Users/ali/dev/tubs/PythonLab-FinalPrj/model/data/masks_1/ID_0000_Z_0142.tif\")\n",
    "width, height = im.size\n",
    "\n",
    "len(im.mode)"
   ]
  },
  {
   "cell_type": "code",
   "execution_count": 56,
   "metadata": {},
   "outputs": [
    {
     "data": {
      "text/plain": [
       "3"
      ]
     },
     "execution_count": 56,
     "metadata": {},
     "output_type": "execute_result"
    }
   ],
   "source": [
    "from PIL import Image\n",
    "\n",
    "# Open the image\n",
    "input_image_path = \"/Users/ali/dev/tubs/PythonLab-FinalPrj/model/data/masks_1/ID_0000_Z_0142.tif\"\n",
    "image = Image.open(input_image_path)\n",
    "\n",
    "# Convert the image to grayscale (1 channel)\n",
    "grayscale_image = image.convert(\"RGB\")\n",
    "\n",
    "# Save the result\n",
    "# output_image_path = \"path/to/save/result.jpg\"\n",
    "# grayscale_image.save(output_image_path)\n",
    "len(grayscale_image.mode)\n"
   ]
  },
  {
   "cell_type": "code",
   "execution_count": 60,
   "metadata": {},
   "outputs": [
    {
     "ename": "UnidentifiedImageError",
     "evalue": "cannot identify image file '/Users/ali/dev/tubs/PythonLab-FinalPrj/model/data/imgs/.DS_Store'",
     "output_type": "error",
     "traceback": [
      "\u001b[0;31m---------------------------------------------------------------------------\u001b[0m",
      "\u001b[0;31mUnidentifiedImageError\u001b[0m                    Traceback (most recent call last)",
      "Cell \u001b[0;32mIn[60], line 30\u001b[0m\n\u001b[1;32m     27\u001b[0m output_folder_path \u001b[38;5;241m=\u001b[39m \u001b[38;5;124m\"\u001b[39m\u001b[38;5;124m/Users/ali/dev/tubs/PythonLab-FinalPrj/model/data/imgs_1\u001b[39m\u001b[38;5;124m\"\u001b[39m\n\u001b[1;32m     29\u001b[0m \u001b[38;5;66;03m# Convert images in the input folder and save them in the output folder\u001b[39;00m\n\u001b[0;32m---> 30\u001b[0m \u001b[43mconvert_images\u001b[49m\u001b[43m(\u001b[49m\u001b[43minput_folder_path\u001b[49m\u001b[43m,\u001b[49m\u001b[43m \u001b[49m\u001b[43moutput_folder_path\u001b[49m\u001b[43m)\u001b[49m\n",
      "Cell \u001b[0;32mIn[60], line 14\u001b[0m, in \u001b[0;36mconvert_images\u001b[0;34m(input_folder, output_folder)\u001b[0m\n\u001b[1;32m     11\u001b[0m input_path \u001b[38;5;241m=\u001b[39m os\u001b[38;5;241m.\u001b[39mpath\u001b[38;5;241m.\u001b[39mjoin(input_folder, filename)\n\u001b[1;32m     13\u001b[0m \u001b[38;5;66;03m# Open the image\u001b[39;00m\n\u001b[0;32m---> 14\u001b[0m image \u001b[38;5;241m=\u001b[39m \u001b[43mImage\u001b[49m\u001b[38;5;241;43m.\u001b[39;49m\u001b[43mopen\u001b[49m\u001b[43m(\u001b[49m\u001b[43minput_path\u001b[49m\u001b[43m)\u001b[49m\n\u001b[1;32m     16\u001b[0m \u001b[38;5;66;03m# Convert the image to grayscale (1 channel)\u001b[39;00m\n\u001b[1;32m     17\u001b[0m grayscale_image \u001b[38;5;241m=\u001b[39m image\u001b[38;5;241m.\u001b[39mconvert(\u001b[38;5;124m\"\u001b[39m\u001b[38;5;124mRGB\u001b[39m\u001b[38;5;124m\"\u001b[39m)\n",
      "File \u001b[0;32m~/dev/tubs/PythonLab-FinalPrj/.venv/lib/python3.11/site-packages/PIL/Image.py:3309\u001b[0m, in \u001b[0;36mopen\u001b[0;34m(fp, mode, formats)\u001b[0m\n\u001b[1;32m   3307\u001b[0m     warnings\u001b[38;5;241m.\u001b[39mwarn(message)\n\u001b[1;32m   3308\u001b[0m msg \u001b[38;5;241m=\u001b[39m \u001b[38;5;124m\"\u001b[39m\u001b[38;5;124mcannot identify image file \u001b[39m\u001b[38;5;132;01m%r\u001b[39;00m\u001b[38;5;124m\"\u001b[39m \u001b[38;5;241m%\u001b[39m (filename \u001b[38;5;28;01mif\u001b[39;00m filename \u001b[38;5;28;01melse\u001b[39;00m fp)\n\u001b[0;32m-> 3309\u001b[0m \u001b[38;5;28;01mraise\u001b[39;00m UnidentifiedImageError(msg)\n",
      "\u001b[0;31mUnidentifiedImageError\u001b[0m: cannot identify image file '/Users/ali/dev/tubs/PythonLab-FinalPrj/model/data/imgs/.DS_Store'"
     ]
    }
   ],
   "source": [
    "from PIL import Image\n",
    "import os\n",
    "\n",
    "def convert_images(input_folder, output_folder):\n",
    "    # Ensure the output folder exists\n",
    "    if not os.path.exists(output_folder):\n",
    "        os.makedirs(output_folder)\n",
    "\n",
    "    # Iterate through all files in the input folder\n",
    "    for filename in os.listdir(input_folder):\n",
    "        input_path = os.path.join(input_folder, filename)\n",
    "        \n",
    "        # Open the image\n",
    "        image = Image.open(input_path)\n",
    "\n",
    "        # Convert the image to grayscale (1 channel)\n",
    "        grayscale_image = image.convert(\"RGB\")\n",
    "\n",
    "        # Save the result in the output folder\n",
    "        if (filename[-1] != \"f\"):\n",
    "            break\n",
    "        output_path = os.path.join(output_folder, f\"{os.path.splitext(filename)[0]}.tif\")\n",
    "        grayscale_image.save(output_path)\n",
    "\n",
    "# Specify the input and output folders\n",
    "input_folder_path = \"/Users/ali/dev/tubs/PythonLab-FinalPrj/model/data/imgs\"\n",
    "output_folder_path = \"/Users/ali/dev/tubs/PythonLab-FinalPrj/model/data/imgs_1\"\n",
    "\n",
    "# Convert images in the input folder and save them in the output folder\n",
    "convert_images(input_folder_path, output_folder_path)\n"
   ]
  },
  {
   "cell_type": "code",
   "execution_count": null,
   "metadata": {},
   "outputs": [],
   "source": []
  },
  {
   "cell_type": "code",
   "execution_count": null,
   "metadata": {},
   "outputs": [],
   "source": []
  }
 ],
 "metadata": {
  "kernelspec": {
   "display_name": ".venv",
   "language": "python",
   "name": "python3"
  },
  "language_info": {
   "codemirror_mode": {
    "name": "ipython",
    "version": 3
   },
   "file_extension": ".py",
   "mimetype": "text/x-python",
   "name": "python",
   "nbconvert_exporter": "python",
   "pygments_lexer": "ipython3",
   "version": "3.11.7"
  }
 },
 "nbformat": 4,
 "nbformat_minor": 2
}
